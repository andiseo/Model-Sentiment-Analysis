{
 "cells": [
  {
   "cell_type": "code",
   "execution_count": 1,
   "id": "f682785b",
   "metadata": {},
   "outputs": [],
   "source": [
    "import pandas as pd"
   ]
  },
  {
   "cell_type": "code",
   "execution_count": 5,
   "id": "d4f7ceb4",
   "metadata": {},
   "outputs": [],
   "source": [
    "df_1 = pd.read_csv('gojek.csv')\n",
    "df_2 = pd.read_csv('tokopedia.csv')\n",
    "df_3 = pd.read_csv('mobilelegends.csv')\n",
    "df_4 = pd.read_csv('whatsapp.csv')"
   ]
  },
  {
   "cell_type": "code",
   "execution_count": 11,
   "id": "87f20fa6",
   "metadata": {},
   "outputs": [],
   "source": [
    "# Dengan filter\n",
    "df_1 = df_1.filter(items=['content', 'score'])\n",
    "df_2 = df_2.filter(items=['content', 'score'])\n",
    "df_3 = df_3.filter(items=['content', 'score'])\n",
    "df_4 = df_4.filter(items=['content', 'score'])"
   ]
  },
  {
   "cell_type": "code",
   "execution_count": 12,
   "id": "839e8b38",
   "metadata": {},
   "outputs": [
    {
     "data": {
      "text/html": [
       "<div>\n",
       "<style scoped>\n",
       "    .dataframe tbody tr th:only-of-type {\n",
       "        vertical-align: middle;\n",
       "    }\n",
       "\n",
       "    .dataframe tbody tr th {\n",
       "        vertical-align: top;\n",
       "    }\n",
       "\n",
       "    .dataframe thead th {\n",
       "        text-align: right;\n",
       "    }\n",
       "</style>\n",
       "<table border=\"1\" class=\"dataframe\">\n",
       "  <thead>\n",
       "    <tr style=\"text-align: right;\">\n",
       "      <th></th>\n",
       "      <th>content</th>\n",
       "      <th>score</th>\n",
       "    </tr>\n",
       "  </thead>\n",
       "  <tbody>\n",
       "    <tr>\n",
       "      <th>0</th>\n",
       "      <td>akun gopay saya di blok</td>\n",
       "      <td>1</td>\n",
       "    </tr>\n",
       "    <tr>\n",
       "      <th>1</th>\n",
       "      <td>Lambat sekali sekarang ini bosssku apk gojek g...</td>\n",
       "      <td>3</td>\n",
       "    </tr>\n",
       "    <tr>\n",
       "      <th>2</th>\n",
       "      <td>Kenapa sih dari kemarin sy buka aplikasi gojek...</td>\n",
       "      <td>4</td>\n",
       "    </tr>\n",
       "    <tr>\n",
       "      <th>3</th>\n",
       "      <td>Baru download gojek dan hape baru trus ditop u...</td>\n",
       "      <td>1</td>\n",
       "    </tr>\n",
       "    <tr>\n",
       "      <th>4</th>\n",
       "      <td>Mantap</td>\n",
       "      <td>5</td>\n",
       "    </tr>\n",
       "  </tbody>\n",
       "</table>\n",
       "</div>"
      ],
      "text/plain": [
       "                                             content  score\n",
       "0                            akun gopay saya di blok      1\n",
       "1  Lambat sekali sekarang ini bosssku apk gojek g...      3\n",
       "2  Kenapa sih dari kemarin sy buka aplikasi gojek...      4\n",
       "3  Baru download gojek dan hape baru trus ditop u...      1\n",
       "4                                             Mantap      5"
      ]
     },
     "execution_count": 12,
     "metadata": {},
     "output_type": "execute_result"
    }
   ],
   "source": [
    "df_1.head()"
   ]
  },
  {
   "cell_type": "code",
   "execution_count": 13,
   "id": "a9e8b684",
   "metadata": {},
   "outputs": [
    {
     "data": {
      "text/html": [
       "<div>\n",
       "<style scoped>\n",
       "    .dataframe tbody tr th:only-of-type {\n",
       "        vertical-align: middle;\n",
       "    }\n",
       "\n",
       "    .dataframe tbody tr th {\n",
       "        vertical-align: top;\n",
       "    }\n",
       "\n",
       "    .dataframe thead th {\n",
       "        text-align: right;\n",
       "    }\n",
       "</style>\n",
       "<table border=\"1\" class=\"dataframe\">\n",
       "  <thead>\n",
       "    <tr style=\"text-align: right;\">\n",
       "      <th></th>\n",
       "      <th>content</th>\n",
       "      <th>score</th>\n",
       "    </tr>\n",
       "  </thead>\n",
       "  <tbody>\n",
       "    <tr>\n",
       "      <th>0</th>\n",
       "      <td>Sukses dan makin berkembang selalu.</td>\n",
       "      <td>5</td>\n",
       "    </tr>\n",
       "    <tr>\n",
       "      <th>1</th>\n",
       "      <td>nice🥰</td>\n",
       "      <td>5</td>\n",
       "    </tr>\n",
       "    <tr>\n",
       "      <th>2</th>\n",
       "      <td>TikTodPedia sekarang pelit gak kayak dulu</td>\n",
       "      <td>1</td>\n",
       "    </tr>\n",
       "    <tr>\n",
       "      <th>3</th>\n",
       "      <td>ok</td>\n",
       "      <td>5</td>\n",
       "    </tr>\n",
       "    <tr>\n",
       "      <th>4</th>\n",
       "      <td>menurut sya kekurangannya dri ekspedisi yg gak...</td>\n",
       "      <td>4</td>\n",
       "    </tr>\n",
       "  </tbody>\n",
       "</table>\n",
       "</div>"
      ],
      "text/plain": [
       "                                             content  score\n",
       "0                Sukses dan makin berkembang selalu.      5\n",
       "1                                              nice🥰      5\n",
       "2          TikTodPedia sekarang pelit gak kayak dulu      1\n",
       "3                                                 ok      5\n",
       "4  menurut sya kekurangannya dri ekspedisi yg gak...      4"
      ]
     },
     "execution_count": 13,
     "metadata": {},
     "output_type": "execute_result"
    }
   ],
   "source": [
    "df_2.head()"
   ]
  },
  {
   "cell_type": "code",
   "execution_count": 14,
   "id": "d010e4c5",
   "metadata": {},
   "outputs": [
    {
     "data": {
      "text/html": [
       "<div>\n",
       "<style scoped>\n",
       "    .dataframe tbody tr th:only-of-type {\n",
       "        vertical-align: middle;\n",
       "    }\n",
       "\n",
       "    .dataframe tbody tr th {\n",
       "        vertical-align: top;\n",
       "    }\n",
       "\n",
       "    .dataframe thead th {\n",
       "        text-align: right;\n",
       "    }\n",
       "</style>\n",
       "<table border=\"1\" class=\"dataframe\">\n",
       "  <thead>\n",
       "    <tr style=\"text-align: right;\">\n",
       "      <th></th>\n",
       "      <th>content</th>\n",
       "      <th>score</th>\n",
       "    </tr>\n",
       "  </thead>\n",
       "  <tbody>\n",
       "    <tr>\n",
       "      <th>0</th>\n",
       "      <td>Game bagus</td>\n",
       "      <td>5</td>\n",
       "    </tr>\n",
       "    <tr>\n",
       "      <th>1</th>\n",
       "      <td>Moonton oon masa gw main kalah mulu gak solo g...</td>\n",
       "      <td>2</td>\n",
       "    </tr>\n",
       "    <tr>\n",
       "      <th>2</th>\n",
       "      <td>Keren banget coy</td>\n",
       "      <td>5</td>\n",
       "    </tr>\n",
       "    <tr>\n",
       "      <th>3</th>\n",
       "      <td>Yah</td>\n",
       "      <td>5</td>\n",
       "    </tr>\n",
       "    <tr>\n",
       "      <th>4</th>\n",
       "      <td>Oke</td>\n",
       "      <td>5</td>\n",
       "    </tr>\n",
       "  </tbody>\n",
       "</table>\n",
       "</div>"
      ],
      "text/plain": [
       "                                             content  score\n",
       "0                                         Game bagus      5\n",
       "1  Moonton oon masa gw main kalah mulu gak solo g...      2\n",
       "2                                   Keren banget coy      5\n",
       "3                                                Yah      5\n",
       "4                                                Oke      5"
      ]
     },
     "execution_count": 14,
     "metadata": {},
     "output_type": "execute_result"
    }
   ],
   "source": [
    "df_3.head()"
   ]
  },
  {
   "cell_type": "code",
   "execution_count": 15,
   "id": "1f104b36",
   "metadata": {},
   "outputs": [
    {
     "data": {
      "text/html": [
       "<div>\n",
       "<style scoped>\n",
       "    .dataframe tbody tr th:only-of-type {\n",
       "        vertical-align: middle;\n",
       "    }\n",
       "\n",
       "    .dataframe tbody tr th {\n",
       "        vertical-align: top;\n",
       "    }\n",
       "\n",
       "    .dataframe thead th {\n",
       "        text-align: right;\n",
       "    }\n",
       "</style>\n",
       "<table border=\"1\" class=\"dataframe\">\n",
       "  <thead>\n",
       "    <tr style=\"text-align: right;\">\n",
       "      <th></th>\n",
       "      <th>content</th>\n",
       "      <th>score</th>\n",
       "    </tr>\n",
       "  </thead>\n",
       "  <tbody>\n",
       "    <tr>\n",
       "      <th>0</th>\n",
       "      <td>Keren</td>\n",
       "      <td>5</td>\n",
       "    </tr>\n",
       "    <tr>\n",
       "      <th>1</th>\n",
       "      <td>Terima foto yang bukan HD jadi buram gambarnya.</td>\n",
       "      <td>3</td>\n",
       "    </tr>\n",
       "    <tr>\n",
       "      <th>2</th>\n",
       "      <td>Sy suka merantau</td>\n",
       "      <td>3</td>\n",
       "    </tr>\n",
       "    <tr>\n",
       "      <th>3</th>\n",
       "      <td>Kok Sya Gabisa Bru wa ka</td>\n",
       "      <td>5</td>\n",
       "    </tr>\n",
       "    <tr>\n",
       "      <th>4</th>\n",
       "      <td>Sangat baik</td>\n",
       "      <td>5</td>\n",
       "    </tr>\n",
       "  </tbody>\n",
       "</table>\n",
       "</div>"
      ],
      "text/plain": [
       "                                           content  score\n",
       "0                                            Keren      5\n",
       "1  Terima foto yang bukan HD jadi buram gambarnya.      3\n",
       "2                                 Sy suka merantau      3\n",
       "3                         Kok Sya Gabisa Bru wa ka      5\n",
       "4                                      Sangat baik      5"
      ]
     },
     "execution_count": 15,
     "metadata": {},
     "output_type": "execute_result"
    }
   ],
   "source": [
    "df_4.head()"
   ]
  },
  {
   "cell_type": "code",
   "execution_count": 17,
   "id": "d79257c6",
   "metadata": {},
   "outputs": [],
   "source": [
    "# Membuat fungsi untuk kategorisasi sentimen\n",
    "def categorize_sentiment(score):\n",
    "  if score >= 4:\n",
    "    return 'Positif'\n",
    "  elif score == 3:\n",
    "    return 'Netral'\n",
    "  else:\n",
    "    return 'Negatif'"
   ]
  },
  {
   "cell_type": "code",
   "execution_count": 18,
   "id": "141440fc",
   "metadata": {},
   "outputs": [
    {
     "name": "stdout",
     "output_type": "stream",
     "text": [
      "\n",
      "**Dataset 1: Jumlah Masing-Masing Skor**\n",
      "score\n",
      "1     45229\n",
      "2      8942\n",
      "3      9460\n",
      "4     14316\n",
      "5    147055\n",
      "Name: count, dtype: int64\n",
      "\n",
      "**Dataset 2: Jumlah Masing-Masing Skor**\n",
      "score\n",
      "1     74\n",
      "2      5\n",
      "3      9\n",
      "4      9\n",
      "5    102\n",
      "Name: count, dtype: int64\n",
      "\n",
      "**Dataset 3: Jumlah Masing-Masing Skor**\n",
      "score\n",
      "1    79\n",
      "2    18\n",
      "3     4\n",
      "4    12\n",
      "5    86\n",
      "Name: count, dtype: int64\n",
      "\n",
      "**Dataset 4: Jumlah Masing-Masing Skor**\n",
      "score\n",
      "1     45\n",
      "2      6\n",
      "3     18\n",
      "4     21\n",
      "5    109\n",
      "Name: count, dtype: int64\n"
     ]
    }
   ],
   "source": [
    "# Kategorisasi sentimen untuk semua dataset\n",
    "for df in [df_1, df_2, df_3, df_4]:\n",
    "  df['sentiment'] = df['score'].apply(categorize_sentiment)\n",
    "\n",
    "# Menganalisis sentimen untuk setiap dataset\n",
    "for df, label in zip([df_1, df_2, df_3, df_4], ['Dataset 1', 'Dataset 2', 'Dataset 3', 'Dataset 4']):\n",
    "  # Jumlah masing-masing skor\n",
    "  score_counts = df['score'].value_counts().sort_index()\n",
    "  print(f\"\\n**{label}: Jumlah Masing-Masing Skor**\")\n",
    "  print(score_counts)\n"
   ]
  },
  {
   "cell_type": "code",
   "execution_count": 19,
   "id": "f1a22756",
   "metadata": {},
   "outputs": [
    {
     "name": "stdout",
     "output_type": "stream",
     "text": [
      "\n",
      "**Dataset 1: Jumlah Masing-Masing Sentimen**\n",
      "sentiment\n",
      "Positif    161371\n",
      "Negatif     54171\n",
      "Netral       9460\n",
      "Name: count, dtype: int64\n",
      "\n",
      "**Dataset 2: Jumlah Masing-Masing Sentimen**\n",
      "sentiment\n",
      "Positif    111\n",
      "Negatif     79\n",
      "Netral       9\n",
      "Name: count, dtype: int64\n",
      "\n",
      "**Dataset 3: Jumlah Masing-Masing Sentimen**\n",
      "sentiment\n",
      "Positif    98\n",
      "Negatif    97\n",
      "Netral      4\n",
      "Name: count, dtype: int64\n",
      "\n",
      "**Dataset 4: Jumlah Masing-Masing Sentimen**\n",
      "sentiment\n",
      "Positif    130\n",
      "Negatif     51\n",
      "Netral      18\n",
      "Name: count, dtype: int64\n"
     ]
    }
   ],
   "source": [
    "# Menganalisis sentimen untuk setiap dataset\n",
    "for df, label in zip([df_1, df_2, df_3, df_4], ['Dataset 1', 'Dataset 2', 'Dataset 3', 'Dataset 4']):\n",
    "  # Jumlah masing-masing sentimen\n",
    "  sentiment_counts = df['sentiment'].value_counts()\n",
    "  print(f\"\\n**{label}: Jumlah Masing-Masing Sentimen**\")\n",
    "  print(sentiment_counts)"
   ]
  },
  {
   "cell_type": "code",
   "execution_count": 20,
   "id": "b499953c",
   "metadata": {},
   "outputs": [],
   "source": [
    "# Gabungkan dataset\n",
    "combined_df = pd.concat([df_4, df_2, df_3])\n",
    "\n",
    "filtered_df = combined_df.query(\"score == 1 or score == 2 or score == 3\")\n",
    "\n",
    "# Atau dengan loc\n",
    "# filtered_df = combined_df.loc[combined_df['score'].isin([1, 2, 3])]\n",
    "\n",
    "# Simpan ke file CSV\n",
    "filtered_df.to_csv('data_tambahan.csv', index=False)\n"
   ]
  },
  {
   "cell_type": "code",
   "execution_count": 22,
   "id": "460068df",
   "metadata": {},
   "outputs": [],
   "source": [
    "df = pd.read_csv('data_tambahan.csv')"
   ]
  },
  {
   "cell_type": "code",
   "execution_count": 23,
   "id": "883d10cf",
   "metadata": {},
   "outputs": [
    {
     "data": {
      "text/html": [
       "<div>\n",
       "<style scoped>\n",
       "    .dataframe tbody tr th:only-of-type {\n",
       "        vertical-align: middle;\n",
       "    }\n",
       "\n",
       "    .dataframe tbody tr th {\n",
       "        vertical-align: top;\n",
       "    }\n",
       "\n",
       "    .dataframe thead th {\n",
       "        text-align: right;\n",
       "    }\n",
       "</style>\n",
       "<table border=\"1\" class=\"dataframe\">\n",
       "  <thead>\n",
       "    <tr style=\"text-align: right;\">\n",
       "      <th></th>\n",
       "      <th>content</th>\n",
       "      <th>score</th>\n",
       "      <th>sentiment</th>\n",
       "    </tr>\n",
       "  </thead>\n",
       "  <tbody>\n",
       "    <tr>\n",
       "      <th>0</th>\n",
       "      <td>Terima foto yang bukan HD jadi buram gambarnya.</td>\n",
       "      <td>3</td>\n",
       "      <td>Netral</td>\n",
       "    </tr>\n",
       "    <tr>\n",
       "      <th>1</th>\n",
       "      <td>Sy suka merantau</td>\n",
       "      <td>3</td>\n",
       "      <td>Netral</td>\n",
       "    </tr>\n",
       "    <tr>\n",
       "      <th>2</th>\n",
       "      <td>Napa WA aku ini</td>\n",
       "      <td>1</td>\n",
       "      <td>Negatif</td>\n",
       "    </tr>\n",
       "    <tr>\n",
       "      <th>3</th>\n",
       "      <td>ga jelas!!!! skrg status wa orang-orang ngacak...</td>\n",
       "      <td>1</td>\n",
       "      <td>Negatif</td>\n",
       "    </tr>\n",
       "    <tr>\n",
       "      <th>4</th>\n",
       "      <td>Knpa Tdak Bisa Update</td>\n",
       "      <td>1</td>\n",
       "      <td>Negatif</td>\n",
       "    </tr>\n",
       "  </tbody>\n",
       "</table>\n",
       "</div>"
      ],
      "text/plain": [
       "                                             content  score sentiment\n",
       "0    Terima foto yang bukan HD jadi buram gambarnya.      3    Netral\n",
       "1                                   Sy suka merantau      3    Netral\n",
       "2                                    Napa WA aku ini      1   Negatif\n",
       "3  ga jelas!!!! skrg status wa orang-orang ngacak...      1   Negatif\n",
       "4                              Knpa Tdak Bisa Update      1   Negatif"
      ]
     },
     "execution_count": 23,
     "metadata": {},
     "output_type": "execute_result"
    }
   ],
   "source": [
    "df.head()"
   ]
  },
  {
   "cell_type": "code",
   "execution_count": 24,
   "id": "dee8a3bd",
   "metadata": {},
   "outputs": [
    {
     "data": {
      "text/html": [
       "<div>\n",
       "<style scoped>\n",
       "    .dataframe tbody tr th:only-of-type {\n",
       "        vertical-align: middle;\n",
       "    }\n",
       "\n",
       "    .dataframe tbody tr th {\n",
       "        vertical-align: top;\n",
       "    }\n",
       "\n",
       "    .dataframe thead th {\n",
       "        text-align: right;\n",
       "    }\n",
       "</style>\n",
       "<table border=\"1\" class=\"dataframe\">\n",
       "  <thead>\n",
       "    <tr style=\"text-align: right;\">\n",
       "      <th></th>\n",
       "      <th>content</th>\n",
       "      <th>score</th>\n",
       "      <th>sentiment</th>\n",
       "    </tr>\n",
       "  </thead>\n",
       "  <tbody>\n",
       "    <tr>\n",
       "      <th>0</th>\n",
       "      <td>akun gopay saya di blok</td>\n",
       "      <td>1</td>\n",
       "      <td>Negatif</td>\n",
       "    </tr>\n",
       "    <tr>\n",
       "      <th>1</th>\n",
       "      <td>Lambat sekali sekarang ini bosssku apk gojek g...</td>\n",
       "      <td>3</td>\n",
       "      <td>Netral</td>\n",
       "    </tr>\n",
       "    <tr>\n",
       "      <th>2</th>\n",
       "      <td>Kenapa sih dari kemarin sy buka aplikasi gojek...</td>\n",
       "      <td>4</td>\n",
       "      <td>Positif</td>\n",
       "    </tr>\n",
       "    <tr>\n",
       "      <th>3</th>\n",
       "      <td>Baru download gojek dan hape baru trus ditop u...</td>\n",
       "      <td>1</td>\n",
       "      <td>Negatif</td>\n",
       "    </tr>\n",
       "    <tr>\n",
       "      <th>4</th>\n",
       "      <td>Mantap</td>\n",
       "      <td>5</td>\n",
       "      <td>Positif</td>\n",
       "    </tr>\n",
       "  </tbody>\n",
       "</table>\n",
       "</div>"
      ],
      "text/plain": [
       "                                             content  score sentiment\n",
       "0                            akun gopay saya di blok      1   Negatif\n",
       "1  Lambat sekali sekarang ini bosssku apk gojek g...      3    Netral\n",
       "2  Kenapa sih dari kemarin sy buka aplikasi gojek...      4   Positif\n",
       "3  Baru download gojek dan hape baru trus ditop u...      1   Negatif\n",
       "4                                             Mantap      5   Positif"
      ]
     },
     "execution_count": 24,
     "metadata": {},
     "output_type": "execute_result"
    }
   ],
   "source": [
    "df_1.head()"
   ]
  },
  {
   "cell_type": "code",
   "execution_count": 25,
   "id": "e3eba2d0",
   "metadata": {},
   "outputs": [],
   "source": [
    "# Menggabungkan kedua DataFrame\n",
    "df_combined = pd.concat([df_1, df])\n",
    "df_combined.to_csv('combined_data.csv', index=False)"
   ]
  },
  {
   "cell_type": "code",
   "execution_count": 26,
   "id": "8d7377b5",
   "metadata": {},
   "outputs": [],
   "source": [
    "df = pd.read_csv('combined_data.csv')"
   ]
  },
  {
   "cell_type": "code",
   "execution_count": 27,
   "id": "4a280486",
   "metadata": {},
   "outputs": [
    {
     "data": {
      "text/html": [
       "<div>\n",
       "<style scoped>\n",
       "    .dataframe tbody tr th:only-of-type {\n",
       "        vertical-align: middle;\n",
       "    }\n",
       "\n",
       "    .dataframe tbody tr th {\n",
       "        vertical-align: top;\n",
       "    }\n",
       "\n",
       "    .dataframe thead th {\n",
       "        text-align: right;\n",
       "    }\n",
       "</style>\n",
       "<table border=\"1\" class=\"dataframe\">\n",
       "  <thead>\n",
       "    <tr style=\"text-align: right;\">\n",
       "      <th></th>\n",
       "      <th>content</th>\n",
       "      <th>score</th>\n",
       "      <th>sentiment</th>\n",
       "    </tr>\n",
       "  </thead>\n",
       "  <tbody>\n",
       "    <tr>\n",
       "      <th>0</th>\n",
       "      <td>akun gopay saya di blok</td>\n",
       "      <td>1</td>\n",
       "      <td>Negatif</td>\n",
       "    </tr>\n",
       "    <tr>\n",
       "      <th>1</th>\n",
       "      <td>Lambat sekali sekarang ini bosssku apk gojek g...</td>\n",
       "      <td>3</td>\n",
       "      <td>Netral</td>\n",
       "    </tr>\n",
       "    <tr>\n",
       "      <th>2</th>\n",
       "      <td>Kenapa sih dari kemarin sy buka aplikasi gojek...</td>\n",
       "      <td>4</td>\n",
       "      <td>Positif</td>\n",
       "    </tr>\n",
       "    <tr>\n",
       "      <th>3</th>\n",
       "      <td>Baru download gojek dan hape baru trus ditop u...</td>\n",
       "      <td>1</td>\n",
       "      <td>Negatif</td>\n",
       "    </tr>\n",
       "    <tr>\n",
       "      <th>4</th>\n",
       "      <td>Mantap</td>\n",
       "      <td>5</td>\n",
       "      <td>Positif</td>\n",
       "    </tr>\n",
       "    <tr>\n",
       "      <th>...</th>\n",
       "      <td>...</td>\n",
       "      <td>...</td>\n",
       "      <td>...</td>\n",
       "    </tr>\n",
       "    <tr>\n",
       "      <th>225255</th>\n",
       "      <td>Napa sih selalu aja kasih gua tim yang nuubb s...</td>\n",
       "      <td>1</td>\n",
       "      <td>Negatif</td>\n",
       "    </tr>\n",
       "    <tr>\n",
       "      <th>225256</th>\n",
       "      <td>Dark moonton sistem kurang kurangi lah,,</td>\n",
       "      <td>1</td>\n",
       "      <td>Negatif</td>\n",
       "    </tr>\n",
       "    <tr>\n",
       "      <th>225257</th>\n",
       "      <td>Monnton knp gue mau honor selalu dpt dark sist...</td>\n",
       "      <td>1</td>\n",
       "      <td>Negatif</td>\n",
       "    </tr>\n",
       "    <tr>\n",
       "      <th>225258</th>\n",
       "      <td>Game aneh dari tadi solo temen gw main kayak b...</td>\n",
       "      <td>1</td>\n",
       "      <td>Negatif</td>\n",
       "    </tr>\n",
       "    <tr>\n",
       "      <th>225259</th>\n",
       "      <td>Ni game nambah dosa gua anjim</td>\n",
       "      <td>1</td>\n",
       "      <td>Negatif</td>\n",
       "    </tr>\n",
       "  </tbody>\n",
       "</table>\n",
       "<p>225260 rows × 3 columns</p>\n",
       "</div>"
      ],
      "text/plain": [
       "                                                  content  score sentiment\n",
       "0                                 akun gopay saya di blok      1   Negatif\n",
       "1       Lambat sekali sekarang ini bosssku apk gojek g...      3    Netral\n",
       "2       Kenapa sih dari kemarin sy buka aplikasi gojek...      4   Positif\n",
       "3       Baru download gojek dan hape baru trus ditop u...      1   Negatif\n",
       "4                                                  Mantap      5   Positif\n",
       "...                                                   ...    ...       ...\n",
       "225255  Napa sih selalu aja kasih gua tim yang nuubb s...      1   Negatif\n",
       "225256           Dark moonton sistem kurang kurangi lah,,      1   Negatif\n",
       "225257  Monnton knp gue mau honor selalu dpt dark sist...      1   Negatif\n",
       "225258  Game aneh dari tadi solo temen gw main kayak b...      1   Negatif\n",
       "225259                      Ni game nambah dosa gua anjim      1   Negatif\n",
       "\n",
       "[225260 rows x 3 columns]"
      ]
     },
     "execution_count": 27,
     "metadata": {},
     "output_type": "execute_result"
    }
   ],
   "source": [
    "df"
   ]
  },
  {
   "cell_type": "code",
   "execution_count": 31,
   "id": "dfb4da9b",
   "metadata": {},
   "outputs": [
    {
     "name": "stdout",
     "output_type": "stream",
     "text": [
      "Distribusi awal label sentiment:\n",
      "sentiment\n",
      "Positif    161371\n",
      "Negatif     54398\n",
      "Netral       9491\n",
      "Name: count, dtype: int64\n"
     ]
    }
   ],
   "source": [
    "# Memeriksa distribusi awal\n",
    "print(\"Distribusi awal label sentiment:\")\n",
    "print(df['sentiment'].value_counts())"
   ]
  },
  {
   "cell_type": "code",
   "execution_count": 32,
   "id": "3b67f5b8",
   "metadata": {},
   "outputs": [
    {
     "name": "stdout",
     "output_type": "stream",
     "text": [
      "Jumlah label Negatif: 54398\n",
      "Jumlah label Netral: 9491\n"
     ]
    }
   ],
   "source": [
    "# Menentukan jumlah label yang akan dipertahankan untuk label 'Positif'\n",
    "num_negatif = df[df['sentiment'] == 'Negatif'].shape[0]\n",
    "num_netral = df[df['sentiment'] == 'Netral'].shape[0]\n",
    "\n",
    "print(f\"Jumlah label Negatif: {num_negatif}\")\n",
    "print(f\"Jumlah label Netral: {num_netral}\")"
   ]
  },
  {
   "cell_type": "code",
   "execution_count": 33,
   "id": "137465f9",
   "metadata": {},
   "outputs": [
    {
     "name": "stdout",
     "output_type": "stream",
     "text": [
      "Jumlah sampel yang diambil untuk label Positif:\n",
      "sentiment\n",
      "Positif    54398\n",
      "Name: count, dtype: int64\n"
     ]
    }
   ],
   "source": [
    "# Mengambil sampel dari data berlabel 'Positif' sebanyak jumlah label 'Negatif'\n",
    "df_positif = df[df['sentiment'] == 'Positif'].sample(n=num_negatif, random_state=42)\n",
    "\n",
    "# Memeriksa jumlah sampel yang diambil\n",
    "print(\"Jumlah sampel yang diambil untuk label Positif:\")\n",
    "print(df_positif['sentiment'].value_counts())"
   ]
  },
  {
   "cell_type": "code",
   "execution_count": 34,
   "id": "ce5619fb",
   "metadata": {},
   "outputs": [
    {
     "name": "stdout",
     "output_type": "stream",
     "text": [
      "Distribusi baru label sentiment setelah undersampling:\n",
      "sentiment\n",
      "Positif    54398\n",
      "Negatif    54398\n",
      "Netral      9491\n",
      "Name: count, dtype: int64\n"
     ]
    }
   ],
   "source": [
    "# Mengambil semua data berlabel 'Negatif' dan 'Netral'\n",
    "df_negatif = df[df['sentiment'] == 'Negatif']\n",
    "df_netral = df[df['sentiment'] == 'Netral']\n",
    "\n",
    "# Menggabungkan kembali data yang sudah di-undersample\n",
    "df_balanced = pd.concat([df_positif, df_negatif, df_netral])\n",
    "\n",
    "# Memeriksa distribusi baru\n",
    "print(\"Distribusi baru label sentiment setelah undersampling:\")\n",
    "print(df_balanced['sentiment'].value_counts())"
   ]
  },
  {
   "cell_type": "code",
   "execution_count": 35,
   "id": "e8e09d6f",
   "metadata": {},
   "outputs": [],
   "source": [
    "# Simpan DataFrame yang sudah seimbang ke dalam file CSV\n",
    "df_balanced.to_csv('df_balanced.csv', index=False)"
   ]
  },
  {
   "cell_type": "code",
   "execution_count": 37,
   "id": "3b764979",
   "metadata": {},
   "outputs": [],
   "source": [
    "df = pd.read_csv('df_balanced.csv')"
   ]
  },
  {
   "cell_type": "code",
   "execution_count": null,
   "id": "52022620",
   "metadata": {},
   "outputs": [],
   "source": []
  }
 ],
 "metadata": {
  "kernelspec": {
   "display_name": "Python 3 (ipykernel)",
   "language": "python",
   "name": "python3"
  },
  "language_info": {
   "codemirror_mode": {
    "name": "ipython",
    "version": 3
   },
   "file_extension": ".py",
   "mimetype": "text/x-python",
   "name": "python",
   "nbconvert_exporter": "python",
   "pygments_lexer": "ipython3",
   "version": "3.11.5"
  }
 },
 "nbformat": 4,
 "nbformat_minor": 5
}
